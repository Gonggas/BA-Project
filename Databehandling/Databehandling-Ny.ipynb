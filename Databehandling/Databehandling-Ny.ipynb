{
 "cells": [
  {
   "cell_type": "code",
   "execution_count": 1,
   "id": "b450ec6b-68a8-4e34-81eb-1a21e9bb20bd",
   "metadata": {},
   "outputs": [],
   "source": [
    "import pandas as pd\n",
    "from math import radians, sin, cos, sqrt, atan2\n",
    "import matplotlib.pyplot as plt\n",
    "import numpy as np\n",
    "import googlemaps"
   ]
  },
  {
   "cell_type": "code",
   "execution_count": 2,
   "id": "a4c6311a-7847-47c3-aa28-54d32734e000",
   "metadata": {},
   "outputs": [],
   "source": [
    "df = pd.read_csv('Original-Data.csv')"
   ]
  },
  {
   "cell_type": "code",
   "execution_count": 4,
   "id": "d56111ae-711e-4d04-a5c2-82a6ee1f7141",
   "metadata": {},
   "outputs": [],
   "source": [
    "pd.set_option('display.max_columns', None)\n",
    "\n",
    "# df"
   ]
  },
  {
   "cell_type": "code",
   "execution_count": 5,
   "id": "b1c282dc-0278-4151-ac4d-681192ea79bb",
   "metadata": {},
   "outputs": [
    {
     "name": "stdout",
     "output_type": "stream",
     "text": [
      "Date                         0\n",
      "Price                        0\n",
      "Status                       0\n",
      "Build Year                   0\n",
      "URL                          0\n",
      "Adresse                      0\n",
      "Kort adresse                 0\n",
      "Kvdm                         9\n",
      "Latitude                   620\n",
      "Longitude                  620\n",
      "Kommune                      0\n",
      "Type                         0\n",
      "Nearest_Metro_Distance    6686\n",
      "Nearest_Tog_Distance      6686\n",
      "dtype: int64\n",
      "\n",
      "Type\n",
      "Ejerlejlighed    77328\n",
      "Villa            33099\n",
      "Rækkehus         14958\n",
      "Name: count, dtype: int64\n"
     ]
    }
   ],
   "source": [
    "# Check for any missing values and handle them if necessary\n",
    "print(df.isnull().sum())\n",
    "\n",
    "# If there are missing values, you can handle them using methods like fillna() or dropna()\n",
    "\n",
    "# Count the different types in the \"Type\" column\n",
    "type_counts = df['Type'].value_counts()\n",
    "\n",
    "# Display the counts of different types\n",
    "print()\n",
    "print(type_counts)\n"
   ]
  }
 ],
 "metadata": {
  "kernelspec": {
   "display_name": "Python 3 (ipykernel)",
   "language": "python",
   "name": "python3"
  },
  "language_info": {
   "codemirror_mode": {
    "name": "ipython",
    "version": 3
   },
   "file_extension": ".py",
   "mimetype": "text/x-python",
   "name": "python",
   "nbconvert_exporter": "python",
   "pygments_lexer": "ipython3",
   "version": "3.11.7"
  }
 },
 "nbformat": 4,
 "nbformat_minor": 5
}
